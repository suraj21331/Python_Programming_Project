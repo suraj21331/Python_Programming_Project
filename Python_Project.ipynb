{
 "cells": [
  {
   "cell_type": "code",
   "execution_count": 1,
   "id": "bfc45950-9f10-42e7-801b-47a7a7dd2264",
   "metadata": {},
   "outputs": [
    {
     "name": "stdout",
     "output_type": "stream",
     "text": [
      "Total files: 4\n",
      "Files containing 'employee' (case-insensitive): 3\n",
      "JSON file found: employee.json\n",
      "{'ID': '8', 'JobTitle': 'Audiologist', 'EmailAddress': 'Michaela_Little1010@yahoo.com', 'FirstNameLastName': 'Michaela Little', 'vaccinated': 'True'}\n"
     ]
    }
   ],
   "source": [
    "import os\n",
    "import json\n",
    "\n",
    "# Set the working directory to 'your_path' \n",
    "os.chdir(r\"your_dataset_file_path\")\n",
    "\n",
    "total_files = 0\n",
    "employee_files = 0 \n",
    "json_filename = None # Initialize to None\n",
    "\n",
    "for filename in os.listdir():\n",
    "    total_files += 1 \n",
    "\n",
    "    # Check if filename (case-insensitive) contains \"employee\"\n",
    "    if \"employee\" in filename.lower():\n",
    "        employee_files += 1 \n",
    "\n",
    "    # Identify the JSON file \n",
    "    if filename.lower().endswith(\".json\"):\n",
    "        json_filename = filename\n",
    "\n",
    "print(\"Total files:\", total_files)\n",
    "print(\"Files containing 'employee' (case-insensitive):\", employee_files)\n",
    "\n",
    "if json_filename:\n",
    "    print(f\"JSON file found: {json_filename}\")\n",
    "    \n",
    "    # Open the JSON file and process data\n",
    "    with open(json_filename, 'r') as f:\n",
    "        data = json.load(f)\n",
    "\n",
    "        # Check for expected data structure (assuming key \"objects\" exists)\n",
    "        if isinstance(data.get(\"objects\"), list):\n",
    "            # Access the list of employees\n",
    "            employees = data[\"objects\"]\n",
    "\n",
    "            # Find employee with ID 8\n",
    "            employee_found = False\n",
    "            for emp in employees:\n",
    "                if str(emp.get(\"ID\")) == \"8\":  # Handle string ID\n",
    "                    print(emp)\n",
    "                    employee_found = True\n",
    "                    break  # Exit the loop after finding the employee\n",
    "            \n",
    "            if not employee_found:\n",
    "                print(\"Employee with ID 8 not found\")\n",
    "        else:\n",
    "            print(\"Error: Unexpected data structure in JSON file.\")  # Handle unexpected structure\n",
    "\n",
    "else:\n",
    "    print(\"No JSON file found containing 'employee' in its name.\")\n"
   ]
  },
  {
   "cell_type": "code",
   "execution_count": 3,
   "id": "e29283e3-5dc8-418b-8c42-f42305888698",
   "metadata": {},
   "outputs": [
    {
     "name": "stdout",
     "output_type": "stream",
     "text": [
      "Column names: ['ID', 'JobTitle', 'EmailAddress', 'FirstNameLastName', 'vaccinated']\n"
     ]
    }
   ],
   "source": [
    "    # Extract column names\n",
    "    column_names = list(data[\"objects\"][0].keys())\n",
    "    print(\"Column names:\", column_names)"
   ]
  },
  {
   "cell_type": "code",
   "execution_count": 4,
   "id": "d06d4da6-d90b-4d3d-a9fd-9ef2f53ab9ac",
   "metadata": {},
   "outputs": [
    {
     "name": "stdout",
     "output_type": "stream",
     "text": [
      "Data converted into nested list:\n",
      "[['1', 'Designer', 'Leroy_Yarlett52@guentu.biz', 'Leroy Yarlett', 'False'], ['2', 'Webmaster', 'Julian_Gonzales8496@famism.biz', 'Julian Gonzales', 'True'], ['3', 'Paramedic', 'George_Porter6363@deons.tech', 'George Porter', 'False'], ['4', 'IT Support Staff', 'Penny_Reynolds8665@supunk.biz', 'Penny Reynolds', 'False'], ['5', 'Dentist', 'Gabriel_Upton1432@bungar.biz', 'Gabriel Upton', 'True'], ['6', 'Bookkeeper', 'Rufus_Jeffery8782@mafthy.com', 'Rufus Jeffery', 'True'], ['7', 'Restaurant Manager', 'Harry_Thomas3263@guentu.biz', 'Harry Thomas', 'False'], ['8', 'Audiologist', 'Michaela_Little1010@yahoo.com', 'Michaela Little', 'True'], ['9', 'Loan Officer', 'Mike_Tailor5085@qater.org', 'Mike Tailor', 'False'], ['10', 'Assistant Buyer', 'Angelina_Haines1218@liret.org', 'Angelina Haines', 'False'], ['11', 'Pharmacist', 'Goldie_Oakley4929@nanoff.biz', 'Goldie Oakley', 'False'], ['12', 'Global Logistics Supervisor', 'Sylvia_Marshall5064@vetan.org', 'Sylvia Marshall', 'True'], ['13', 'Restaurant Manager', 'Mike_Vaughn8880@bulaffy.com', 'Mike Vaughn', 'True'], ['14', 'Machine Operator', 'Melinda_Shepherd7534@ubusive.com', 'Melinda Shepherd', 'False'], ['15', 'Operator', 'Doris_Goldsmith6453@famism.biz', 'Doris Goldsmith', 'True'], ['16', 'Associate Professor', 'Chris_Neal8692@typill.biz', 'Chris Neal', 'False'], ['17', 'Health Educator', 'Harry_Chester2240@tonsy.org', 'Harry Chester', 'True'], ['18', 'Inspector', 'Marla_Farrant3348@deons.tech', 'Marla Farrant', 'False'], ['19', 'Fabricator', 'Tania_Kennedy8370@corti.com', 'Tania Kennedy', 'False'], ['20', 'Retail Trainee', 'Bryon_Gibbons5610@corti.com', 'Bryon Gibbons', 'False'], ['21', 'Cash Manager', 'Ivette_Taylor973@extex.org', 'Ivette Taylor', 'False'], ['22', 'HR Coordinator', 'Chadwick_Eaton1419@twace.org', 'Chadwick Eaton', 'False'], ['23', 'Webmaster', 'Chuck_Plumb9701@nickia.com', 'Chuck Plumb', 'False'], ['24', 'Steward', 'Candace_London3099@mafthy.com', 'Candace London', 'False'], ['25', 'Investment  Advisor', 'Marvin_Wilde6902@cispeto.com', 'Marvin Wilde', 'True'], ['26', 'Doctor', 'Barry_Taylor950@grannar.com', 'Barry Taylor', 'True'], ['27', 'Bellman', 'Elijah_Harrison3622@bungar.biz', 'Elijah Harrison', 'False'], ['28', 'Front Desk Coordinator', 'Jazmin_Mason8297@gembat.biz', 'Jazmin Mason', 'False'], ['29', 'Budget Analyst', 'Ramon_Whinter4041@elnee.tech', 'Ramon Whinter', 'True'], ['30', 'Doctor', 'Candace_Darcy6235@jiman.org', 'Candace Darcy', 'False'], ['31', 'Insurance Broker', 'Leilani_Rose1103@fuliss.net', 'Leilani Rose', 'False'], ['32', 'Software Engineer', 'Noemi_Miller6490@eirey.tech', 'Noemi Miller', 'True'], ['33', 'Lecturer', 'Alba_Carson2919@typill.biz', 'Alba Carson', 'True'], ['34', 'Doctor', 'Russel_Walter1385@bungar.biz', 'Russel Walter', 'True'], ['35', 'Design Engineer', 'Maia_Kennedy6742@naiker.biz', 'Maia Kennedy', 'False'], ['36', 'Physician', 'Fred_Clifton2086@infotech44.tech', 'Fred Clifton', 'False'], ['37', 'Call Center Representative', 'Alexander_Kennedy1766@mafthy.com', 'Alexander Kennedy', 'True'], ['38', 'Systems Administrator', 'Naomi_Henderson4478@sheye.org', 'Naomi Henderson', 'True'], ['39', 'Biologist', 'Hank_Howard765@liret.org', 'Hank Howard', 'False'], ['40', 'Steward', 'Dorothy_Mackenzie4447@deons.tech', 'Dorothy Mackenzie', 'False'], ['41', 'Front Desk Coordinator', 'Elena_Gregory8402@ubusive.com', 'Elena Gregory', 'True'], ['42', 'Production Painter', 'Helen_Adams3473@guentu.biz', 'Helen Adams', 'True'], ['43', 'Software Engineer', 'Lucas_Brooks385@typill.biz', 'Lucas Brooks', 'False'], ['44', 'Cook', 'Angelina_Ross7491@qater.org', 'Angelina Ross', 'True'], ['45', 'Biologist', 'Remy_Benfield4958@kideod.biz', 'Remy Benfield', 'True'], ['46', 'IT Support Staff', 'Mackenzie_Neal4273@qater.org', 'Mackenzie Neal', 'True'], ['47', 'Associate Professor', 'Janelle_Parker3414@twace.org', 'Janelle Parker', 'True'], ['48', 'Treasurer', 'Matthew_Woodley2830@gembat.biz', 'Matthew Woodley', 'True'], ['49', 'Ambulatory Nurse', 'Anthony_Coleman4896@nanoff.biz', 'Anthony Coleman', 'True'], ['50', 'Restaurant Manager', 'Peyton_Hobson4407@iatim.tech', 'Peyton Hobson', 'True']]\n"
     ]
    }
   ],
   "source": [
    "# Open the JSON file and process data\n",
    "with open(json_filename, 'r') as f:\n",
    "    data = json.load(f)\n",
    "\n",
    "    # Check for expected data structure (assuming key \"objects\" exists)\n",
    "    if isinstance(data.get(\"objects\"), list):\n",
    "        # Access the list of employees\n",
    "        employees = data[\"objects\"]\n",
    "\n",
    "        # Convert data into a nested list\n",
    "        nested_list = []\n",
    "        for emp in employees:\n",
    "            nested_list.append(list(emp.values()))\n",
    "\n",
    "        print(\"Data converted into nested list:\")\n",
    "        print(nested_list)\n",
    "    else:\n",
    "        print(\"Error: Unexpected data structure in JSON file.\")\n"
   ]
  },
  {
   "cell_type": "code",
   "execution_count": 5,
   "id": "0f98a3e1-0315-47b0-bd99-e3b896f179de",
   "metadata": {},
   "outputs": [
    {
     "name": "stdout",
     "output_type": "stream",
     "text": [
      "DataFrame with bonus percent added exported to Excel successfully.\n"
     ]
    }
   ],
   "source": [
    "import pandas as pd\n",
    "import sqlite3 \n",
    "\n",
    "# Connect to the SQLite database\n",
    "conn = sqlite3.connect(\"data.db\")\n",
    "\n",
    "# Read data from SQLite into a pandas DataFrame\n",
    "query = \"SELECT * FROM employee;\"\n",
    "df = pd.read_sql_query(query, conn)\n",
    "\n",
    "# Close the database connection\n",
    "conn.close()\n",
    "\n",
    "# Convert 'vaccinated' column to boolean type\n",
    "df['vaccinated'] = df['vaccinated'].map({'True': True, 'False': False})\n",
    "\n",
    "# Add a new column \"bonus_percent\" based on vaccination status and if vaccinated then 15 percent and if non vaccinated then 5.\n",
    "df['bonus_percent'] = df['vaccinated'].apply(lambda x: 15 if x else 5)\n",
    "\n",
    "\n",
    "# Export the final DataFrame to an Excel file\n",
    "output_file = \"employee_bonus.xlsx\"\n",
    "df.to_excel(output_file, index=False)\n",
    "\n",
    "print(\"DataFrame with bonus percent added exported to Excel successfully.\")\n"
   ]
  },
  {
   "cell_type": "code",
   "execution_count": null,
   "id": "047445be-41e4-4b4d-9723-0626c18d762a",
   "metadata": {},
   "outputs": [],
   "source": []
  }
 ],
 "metadata": {
  "kernelspec": {
   "display_name": "Python 3 (ipykernel)",
   "language": "python",
   "name": "python3"
  },
  "language_info": {
   "codemirror_mode": {
    "name": "ipython",
    "version": 3
   },
   "file_extension": ".py",
   "mimetype": "text/x-python",
   "name": "python",
   "nbconvert_exporter": "python",
   "pygments_lexer": "ipython3",
   "version": "3.9.18"
  }
 },
 "nbformat": 4,
 "nbformat_minor": 5
}
